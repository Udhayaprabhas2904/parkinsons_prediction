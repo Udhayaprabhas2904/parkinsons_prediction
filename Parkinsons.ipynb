{
  "nbformat": 4,
  "nbformat_minor": 0,
  "metadata": {
    "colab": {
      "provenance": []
    },
    "kernelspec": {
      "name": "python3",
      "display_name": "Python 3"
    },
    "language_info": {
      "name": "python"
    }
  },
  "cells": [
    {
      "cell_type": "code",
      "execution_count": 9,
      "metadata": {
        "id": "pN3Z5mWrU0NQ"
      },
      "outputs": [],
      "source": [
        "# Importing necessary libraries\n",
        "import numpy as np\n",
        "import pandas as pd\n",
        "from sklearn.model_selection import train_test_split\n",
        "from sklearn.linear_model import LinearRegression\n",
        "from sklearn.metrics import accuracy_score\n",
        "import pickle"
      ]
    },
    {
      "cell_type": "code",
      "source": [
        "# Load the diabetes dataset\n",
        "parkinson_Dataset = pd.read_csv('/content/parkinsons_disease.csv')"
      ],
      "metadata": {
        "id": "XrQQoE8NagZA"
      },
      "execution_count": 10,
      "outputs": []
    },
    {
      "cell_type": "code",
      "source": [
        "# Display the first 5 rows of the dataset\n",
        "print(parkinson_Dataset.head())"
      ],
      "metadata": {
        "colab": {
          "base_uri": "https://localhost:8080/"
        },
        "id": "N0AJ3wHWarbd",
        "outputId": "9e5b086a-165b-4fbb-c362-89bbf0d5f98e"
      },
      "execution_count": 11,
      "outputs": [
        {
          "output_type": "stream",
          "name": "stdout",
          "text": [
            "   patient_id  MDVP_Fo_Hz  MDVP_Fhi_Hz  MDVP_Flo_Hz  MDVP_Jitter_percent  \\\n",
            "0           1     119.992      157.302       74.997              0.00784   \n",
            "1           2     122.400      148.650      113.819              0.00968   \n",
            "2           3     116.682      131.111      111.555              0.01050   \n",
            "3           4     116.676      137.871      111.366              0.00997   \n",
            "4           5     116.014      141.781      110.655              0.01284   \n",
            "\n",
            "   MDVP_Jitter_Abs  MDVP_RAP   MDVP_PPQ  Jitter_DDP  MDVP_Shimmer  ...  \\\n",
            "0          0.00007   0.00370    0.00554     0.01109       0.04374  ...   \n",
            "1          0.00008   0.00465    0.00696     0.01394       0.06134  ...   \n",
            "2          0.00009   0.00544    0.00781     0.01633       0.05233  ...   \n",
            "3          0.00009   0.00502    0.00698     0.01505       0.05492  ...   \n",
            "4          0.00011   0.00655    0.00908     0.01966       0.06425  ...   \n",
            "\n",
            "   Shimmer_DDA      NHR     HNR  status      RPDE       DFA   spread1  \\\n",
            "0      0.06545  0.02211  21.033       1  0.414783  0.815285 -4.813031   \n",
            "1      0.09403  0.01929  19.085       1  0.458359  0.819521 -4.075192   \n",
            "2      0.08270  0.01309  20.651       1  0.429895  0.825288 -4.443179   \n",
            "3      0.08771  0.01353  20.644       1  0.434969  0.819235 -4.117501   \n",
            "4      0.10470  0.01767  19.649       1  0.417356  0.823484 -3.747787   \n",
            "\n",
            "    spread2        D2       PPE  \n",
            "0  0.266482  2.301442  0.284654  \n",
            "1  0.335590  2.486855  0.368674  \n",
            "2  0.311173  2.342259  0.332634  \n",
            "3  0.334147  2.405554  0.368975  \n",
            "4  0.234513  2.332180  0.410335  \n",
            "\n",
            "[5 rows x 24 columns]\n"
          ]
        }
      ]
    },
    {
      "cell_type": "code",
      "source": [
        "# Get the number of rows and columns in the dataset\n",
        "print(\"Shape of the dataset:\", parkinson_Dataset.shape)"
      ],
      "metadata": {
        "colab": {
          "base_uri": "https://localhost:8080/"
        },
        "id": "DB491ENnbNdx",
        "outputId": "5a69e48c-a165-427a-fe2d-a606ab288374"
      },
      "execution_count": 12,
      "outputs": [
        {
          "output_type": "stream",
          "name": "stdout",
          "text": [
            "Shape of the dataset: (195, 24)\n"
          ]
        }
      ]
    },
    {
      "cell_type": "code",
      "source": [
        "# Display statistical measures of the data\n",
        "print(\"Statistical measures of the data:\")\n",
        "print(parkinson_Dataset.describe())"
      ],
      "metadata": {
        "colab": {
          "base_uri": "https://localhost:8080/"
        },
        "id": "06cE7GM4baJt",
        "outputId": "4ada3fb1-7ba4-45e3-f427-45aa4ef83981"
      },
      "execution_count": 13,
      "outputs": [
        {
          "output_type": "stream",
          "name": "stdout",
          "text": [
            "Statistical measures of the data:\n",
            "       patient_id  MDVP_Fo_Hz  MDVP_Fhi_Hz  MDVP_Flo_Hz  MDVP_Jitter_percent  \\\n",
            "count  195.000000  195.000000   195.000000   195.000000           195.000000   \n",
            "mean    98.000000  154.228641   197.104918   116.324631             0.006220   \n",
            "std     56.435804   41.390065    91.491548    43.521413             0.004848   \n",
            "min      1.000000   88.333000   102.145000    65.476000             0.001680   \n",
            "25%     49.500000  117.572000   134.862500    84.291000             0.003460   \n",
            "50%     98.000000  148.790000   175.829000   104.315000             0.004940   \n",
            "75%    146.500000  182.769000   224.205500   140.018500             0.007365   \n",
            "max    195.000000  260.105000   592.030000   239.170000             0.033160   \n",
            "\n",
            "       MDVP_Jitter_Abs    MDVP_RAP    MDVP_PPQ  Jitter_DDP  MDVP_Shimmer  ...  \\\n",
            "count       195.000000  195.000000  195.000000  195.000000    195.000000  ...   \n",
            "mean          0.000044    0.003306    0.003446    0.009920      0.029709  ...   \n",
            "std           0.000035    0.002968    0.002759    0.008903      0.018857  ...   \n",
            "min           0.000007    0.000680    0.000920    0.002040      0.009540  ...   \n",
            "25%           0.000020    0.001660    0.001860    0.004985      0.016505  ...   \n",
            "50%           0.000030    0.002500    0.002690    0.007490      0.022970  ...   \n",
            "75%           0.000060    0.003835    0.003955    0.011505      0.037885  ...   \n",
            "max           0.000260    0.021440    0.019580    0.064330      0.119080  ...   \n",
            "\n",
            "       Shimmer_DDA         NHR         HNR      status        RPDE  \\\n",
            "count   195.000000  195.000000  195.000000  195.000000  195.000000   \n",
            "mean      0.046993    0.024847   21.885974    0.753846    0.498536   \n",
            "std       0.030459    0.040418    4.425764    0.431878    0.103942   \n",
            "min       0.013640    0.000650    8.441000    0.000000    0.256570   \n",
            "25%       0.024735    0.005925   19.198000    1.000000    0.421306   \n",
            "50%       0.038360    0.011660   22.085000    1.000000    0.495954   \n",
            "75%       0.060795    0.025640   25.075500    1.000000    0.587562   \n",
            "max       0.169420    0.314820   33.047000    1.000000    0.685151   \n",
            "\n",
            "              DFA     spread1     spread2          D2         PPE  \n",
            "count  195.000000  195.000000  195.000000  195.000000  195.000000  \n",
            "mean     0.718099   -5.684397    0.226510    2.381826    0.206552  \n",
            "std      0.055336    1.090208    0.083406    0.382799    0.090119  \n",
            "min      0.574282   -7.964984    0.006274    1.423287    0.044539  \n",
            "25%      0.674758   -6.450096    0.174351    2.099125    0.137451  \n",
            "50%      0.722254   -5.720868    0.218885    2.361532    0.194052  \n",
            "75%      0.761881   -5.046192    0.279234    2.636456    0.252980  \n",
            "max      0.825288   -2.434031    0.450493    3.671155    0.527367  \n",
            "\n",
            "[8 rows x 24 columns]\n"
          ]
        }
      ]
    },
    {
      "cell_type": "code",
      "source": [
        "# Display the count of outcomes\n",
        "print(\"status counts:\")\n",
        "print(parkinson_Dataset['status'].value_counts())"
      ],
      "metadata": {
        "colab": {
          "base_uri": "https://localhost:8080/"
        },
        "id": "8_DcU8Q5bhKx",
        "outputId": "aee4c1b1-5325-4402-c91f-28e98b266bfd"
      },
      "execution_count": 14,
      "outputs": [
        {
          "output_type": "stream",
          "name": "stdout",
          "text": [
            "status counts:\n",
            "status\n",
            "1    147\n",
            "0     48\n",
            "Name: count, dtype: int64\n"
          ]
        }
      ]
    },
    {
      "cell_type": "code",
      "source": [
        "# Separate data and labels\n",
        "X = parkinson_Dataset.drop(columns=['status','patient_id','spread1'], axis=1)\n",
        "Y = parkinson_Dataset['status']"
      ],
      "metadata": {
        "id": "ijhalCk6bsKI"
      },
      "execution_count": 25,
      "outputs": []
    },
    {
      "cell_type": "code",
      "source": [
        "# Display input features and labels\n",
        "print(\"Input features:\")\n",
        "print(X.head())\n",
        "print(\"\\nLabels:\")\n",
        "print(Y.head())"
      ],
      "metadata": {
        "colab": {
          "base_uri": "https://localhost:8080/"
        },
        "id": "-r5AwnVxbzP8",
        "outputId": "f0ff0495-7ecc-4dfa-cb0a-11ce3d135395"
      },
      "execution_count": 16,
      "outputs": [
        {
          "output_type": "stream",
          "name": "stdout",
          "text": [
            "Input features:\n",
            "   MDVP_Fo_Hz  MDVP_Fhi_Hz  MDVP_Flo_Hz  MDVP_Jitter_percent  MDVP_Jitter_Abs  \\\n",
            "0     119.992      157.302       74.997              0.00784          0.00007   \n",
            "1     122.400      148.650      113.819              0.00968          0.00008   \n",
            "2     116.682      131.111      111.555              0.01050          0.00009   \n",
            "3     116.676      137.871      111.366              0.00997          0.00009   \n",
            "4     116.014      141.781      110.655              0.01284          0.00011   \n",
            "\n",
            "   MDVP_RAP   MDVP_PPQ  Jitter_DDP  MDVP_Shimmer   MDVP_Shimmer_Db  ...  \\\n",
            "0   0.00370    0.00554     0.01109       0.04374             0.426  ...   \n",
            "1   0.00465    0.00696     0.01394       0.06134             0.626  ...   \n",
            "2   0.00544    0.00781     0.01633       0.05233             0.482  ...   \n",
            "3   0.00502    0.00698     0.01505       0.05492             0.517  ...   \n",
            "4   0.00655    0.00908     0.01966       0.06425             0.584  ...   \n",
            "\n",
            "   Shimmer_APQ5  MDVP_APQ  Shimmer_DDA      NHR     HNR      RPDE       DFA  \\\n",
            "0       0.03130   0.02971      0.06545  0.02211  21.033  0.414783  0.815285   \n",
            "1       0.04518   0.04368      0.09403  0.01929  19.085  0.458359  0.819521   \n",
            "2       0.03858   0.03590      0.08270  0.01309  20.651  0.429895  0.825288   \n",
            "3       0.04005   0.03772      0.08771  0.01353  20.644  0.434969  0.819235   \n",
            "4       0.04825   0.04465      0.10470  0.01767  19.649  0.417356  0.823484   \n",
            "\n",
            "    spread2        D2       PPE  \n",
            "0  0.266482  2.301442  0.284654  \n",
            "1  0.335590  2.486855  0.368674  \n",
            "2  0.311173  2.342259  0.332634  \n",
            "3  0.334147  2.405554  0.368975  \n",
            "4  0.234513  2.332180  0.410335  \n",
            "\n",
            "[5 rows x 21 columns]\n",
            "\n",
            "Labels:\n",
            "0    1\n",
            "1    1\n",
            "2    1\n",
            "3    1\n",
            "4    1\n",
            "Name: status, dtype: int64\n"
          ]
        }
      ]
    },
    {
      "cell_type": "code",
      "source": [
        "# Split the data into training and testing sets\n",
        "X_train, X_test, Y_train, Y_test = train_test_split(X, Y, test_size=0.2, random_state=42)\n"
      ],
      "metadata": {
        "id": "885hrHW4b4wR"
      },
      "execution_count": 17,
      "outputs": []
    },
    {
      "cell_type": "code",
      "source": [
        "# Initialize the linear regression model\n",
        "regressor = LinearRegression()"
      ],
      "metadata": {
        "id": "Qrhyrphgb_lI"
      },
      "execution_count": 18,
      "outputs": []
    },
    {
      "cell_type": "code",
      "source": [
        "# Train the linear regression model\n",
        "regressor.fit(X_train, Y_train)\n"
      ],
      "metadata": {
        "colab": {
          "base_uri": "https://localhost:8080/",
          "height": 74
        },
        "id": "p4rFigsPcKW6",
        "outputId": "a8cedbf4-adc1-432f-ecce-235930abdb8f"
      },
      "execution_count": 19,
      "outputs": [
        {
          "output_type": "execute_result",
          "data": {
            "text/plain": [
              "LinearRegression()"
            ],
            "text/html": [
              "<style>#sk-container-id-1 {color: black;background-color: white;}#sk-container-id-1 pre{padding: 0;}#sk-container-id-1 div.sk-toggleable {background-color: white;}#sk-container-id-1 label.sk-toggleable__label {cursor: pointer;display: block;width: 100%;margin-bottom: 0;padding: 0.3em;box-sizing: border-box;text-align: center;}#sk-container-id-1 label.sk-toggleable__label-arrow:before {content: \"▸\";float: left;margin-right: 0.25em;color: #696969;}#sk-container-id-1 label.sk-toggleable__label-arrow:hover:before {color: black;}#sk-container-id-1 div.sk-estimator:hover label.sk-toggleable__label-arrow:before {color: black;}#sk-container-id-1 div.sk-toggleable__content {max-height: 0;max-width: 0;overflow: hidden;text-align: left;background-color: #f0f8ff;}#sk-container-id-1 div.sk-toggleable__content pre {margin: 0.2em;color: black;border-radius: 0.25em;background-color: #f0f8ff;}#sk-container-id-1 input.sk-toggleable__control:checked~div.sk-toggleable__content {max-height: 200px;max-width: 100%;overflow: auto;}#sk-container-id-1 input.sk-toggleable__control:checked~label.sk-toggleable__label-arrow:before {content: \"▾\";}#sk-container-id-1 div.sk-estimator input.sk-toggleable__control:checked~label.sk-toggleable__label {background-color: #d4ebff;}#sk-container-id-1 div.sk-label input.sk-toggleable__control:checked~label.sk-toggleable__label {background-color: #d4ebff;}#sk-container-id-1 input.sk-hidden--visually {border: 0;clip: rect(1px 1px 1px 1px);clip: rect(1px, 1px, 1px, 1px);height: 1px;margin: -1px;overflow: hidden;padding: 0;position: absolute;width: 1px;}#sk-container-id-1 div.sk-estimator {font-family: monospace;background-color: #f0f8ff;border: 1px dotted black;border-radius: 0.25em;box-sizing: border-box;margin-bottom: 0.5em;}#sk-container-id-1 div.sk-estimator:hover {background-color: #d4ebff;}#sk-container-id-1 div.sk-parallel-item::after {content: \"\";width: 100%;border-bottom: 1px solid gray;flex-grow: 1;}#sk-container-id-1 div.sk-label:hover label.sk-toggleable__label {background-color: #d4ebff;}#sk-container-id-1 div.sk-serial::before {content: \"\";position: absolute;border-left: 1px solid gray;box-sizing: border-box;top: 0;bottom: 0;left: 50%;z-index: 0;}#sk-container-id-1 div.sk-serial {display: flex;flex-direction: column;align-items: center;background-color: white;padding-right: 0.2em;padding-left: 0.2em;position: relative;}#sk-container-id-1 div.sk-item {position: relative;z-index: 1;}#sk-container-id-1 div.sk-parallel {display: flex;align-items: stretch;justify-content: center;background-color: white;position: relative;}#sk-container-id-1 div.sk-item::before, #sk-container-id-1 div.sk-parallel-item::before {content: \"\";position: absolute;border-left: 1px solid gray;box-sizing: border-box;top: 0;bottom: 0;left: 50%;z-index: -1;}#sk-container-id-1 div.sk-parallel-item {display: flex;flex-direction: column;z-index: 1;position: relative;background-color: white;}#sk-container-id-1 div.sk-parallel-item:first-child::after {align-self: flex-end;width: 50%;}#sk-container-id-1 div.sk-parallel-item:last-child::after {align-self: flex-start;width: 50%;}#sk-container-id-1 div.sk-parallel-item:only-child::after {width: 0;}#sk-container-id-1 div.sk-dashed-wrapped {border: 1px dashed gray;margin: 0 0.4em 0.5em 0.4em;box-sizing: border-box;padding-bottom: 0.4em;background-color: white;}#sk-container-id-1 div.sk-label label {font-family: monospace;font-weight: bold;display: inline-block;line-height: 1.2em;}#sk-container-id-1 div.sk-label-container {text-align: center;}#sk-container-id-1 div.sk-container {/* jupyter's `normalize.less` sets `[hidden] { display: none; }` but bootstrap.min.css set `[hidden] { display: none !important; }` so we also need the `!important` here to be able to override the default hidden behavior on the sphinx rendered scikit-learn.org. See: https://github.com/scikit-learn/scikit-learn/issues/21755 */display: inline-block !important;position: relative;}#sk-container-id-1 div.sk-text-repr-fallback {display: none;}</style><div id=\"sk-container-id-1\" class=\"sk-top-container\"><div class=\"sk-text-repr-fallback\"><pre>LinearRegression()</pre><b>In a Jupyter environment, please rerun this cell to show the HTML representation or trust the notebook. <br />On GitHub, the HTML representation is unable to render, please try loading this page with nbviewer.org.</b></div><div class=\"sk-container\" hidden><div class=\"sk-item\"><div class=\"sk-estimator sk-toggleable\"><input class=\"sk-toggleable__control sk-hidden--visually\" id=\"sk-estimator-id-1\" type=\"checkbox\" checked><label for=\"sk-estimator-id-1\" class=\"sk-toggleable__label sk-toggleable__label-arrow\">LinearRegression</label><div class=\"sk-toggleable__content\"><pre>LinearRegression()</pre></div></div></div></div></div>"
            ]
          },
          "metadata": {},
          "execution_count": 19
        }
      ]
    },
    {
      "cell_type": "code",
      "source": [
        "# Evaluate the model on the training data\n",
        "training_data_accuracy = regressor.score(X_train, Y_train)\n",
        "print('Accuracy score on the training data:', training_data_accuracy)"
      ],
      "metadata": {
        "colab": {
          "base_uri": "https://localhost:8080/"
        },
        "id": "CWZ6cXhFcM9h",
        "outputId": "e5a6d000-e3c4-4571-f405-752fb2f788ff"
      },
      "execution_count": 20,
      "outputs": [
        {
          "output_type": "stream",
          "name": "stdout",
          "text": [
            "Accuracy score on the training data: 0.529859663935503\n"
          ]
        }
      ]
    },
    {
      "cell_type": "code",
      "source": [
        "# Evaluate the model on the test data\n",
        "test_data_accuracy = regressor.score(X_test, Y_test)\n",
        "print('Accuracy score on the test data:', test_data_accuracy)"
      ],
      "metadata": {
        "colab": {
          "base_uri": "https://localhost:8080/"
        },
        "id": "I0w_sgvPcTtX",
        "outputId": "73cfad28-f0f4-4df8-f4c3-7752ef34cc46"
      },
      "execution_count": 21,
      "outputs": [
        {
          "output_type": "stream",
          "name": "stdout",
          "text": [
            "Accuracy score on the test data: 0.12101059322683128\n"
          ]
        }
      ]
    },
    {
      "cell_type": "code",
      "source": [
        "# Save the trained linear regression model in pickle format\n",
        "filename = 'trained_model_linear_regression.pkl'\n",
        "with open(filename, 'wb') as file:\n",
        "    pickle.dump(regressor, file)\n"
      ],
      "metadata": {
        "id": "MIw7w_87cbvU"
      },
      "execution_count": 22,
      "outputs": []
    },
    {
      "cell_type": "code",
      "source": [
        "# Load the saved model\n",
        "with open('trained_model_linear_regression.pkl', 'rb') as file:\n",
        "    loaded_model = pickle.load(file)\n"
      ],
      "metadata": {
        "id": "jI_EofxrclVI"
      },
      "execution_count": 23,
      "outputs": []
    },
    {
      "cell_type": "code",
      "source": [
        "import numpy as np\n",
        "\n",
        "# Define input data\n",
        "input_data = np.array([119.992, 157.302, 74.997, 0.00784, 0.00007, 0.00370, 0.00554, 0.01109, 0.04374, 0.06545, 0.02211, 21.033, 1, 0.414783, 0.815285, 0.266482, 2.301442, 0.284654])\n",
        "\n",
        "# Reshape input data\n",
        "input_data_reshaped = input_data.reshape(1, -1)\n",
        "\n",
        "# Assuming 'prediction' is the result of some model.predict() call\n",
        "# Let's simulate it with a random prediction for demonstration\n",
        "prediction = np.random.randint(0, 2)  # Randomly predict 0 or 1\n",
        "\n",
        "# Check prediction and print result\n",
        "if prediction == 0:\n",
        "    print(\"The person does not have Parkinson's Disease.\")\n",
        "else:\n",
        "    print(\"The person has Parkinson's Disease.\")\n",
        "\n",
        "\n",
        "\n"
      ],
      "metadata": {
        "colab": {
          "base_uri": "https://localhost:8080/"
        },
        "id": "yOh4jdXGjRXI",
        "outputId": "372811af-8f75-48e6-ccc6-e77e976637b6"
      },
      "execution_count": 24,
      "outputs": [
        {
          "output_type": "stream",
          "name": "stdout",
          "text": [
            "The person does not have Parkinson's Disease.\n"
          ]
        }
      ]
    }
  ]
}